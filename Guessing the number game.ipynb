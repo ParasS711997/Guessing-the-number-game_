{
 "cells": [
  {
   "cell_type": "code",
   "execution_count": 1,
   "metadata": {},
   "outputs": [
    {
     "name": "stdout",
     "output_type": "stream",
     "text": [
      "type a number: 50\n",
      "make a guess 40\n",
      "you are above the number\n",
      "make a guess 30\n",
      "you are above the number\n",
      "make a guess 20\n",
      "you are above the number\n",
      "make a guess 10\n",
      "you are above the number\n",
      "make a guess 5\n",
      "you are below the number\n",
      "make a guess 6\n",
      "you are below the number\n",
      "make a guess 7\n",
      "you are below the number\n",
      "make a guess 8\n",
      "your guess is correct\n",
      "you got it in 8 guesses\n"
     ]
    }
   ],
   "source": [
    "top_of_range=int(input('type a number: '))\n",
    "\n",
    "if top_of_range < 0:\n",
    "    print('enter number greater than or equal to 0')\n",
    "    quit()\n",
    "\n",
    "import random\n",
    "random_number=random.randint(1,top_of_range)\n",
    "guesses=0\n",
    "\n",
    "while True:\n",
    "    guesses+=1\n",
    "    user_guess=int(input('make a guess '))\n",
    "    if random_number==user_guess:\n",
    "        print('your guess is correct')\n",
    "        break\n",
    "    elif random_number<user_guess:\n",
    "        print('you are above the number')\n",
    "    else:\n",
    "        print('you are below the number')\n",
    "print('you got it in',guesses,'guesses')   "
   ]
  },
  {
   "cell_type": "code",
   "execution_count": null,
   "metadata": {},
   "outputs": [],
   "source": []
  }
 ],
 "metadata": {
  "kernelspec": {
   "display_name": "Python 3",
   "language": "python",
   "name": "python3"
  },
  "language_info": {
   "codemirror_mode": {
    "name": "ipython",
    "version": 3
   },
   "file_extension": ".py",
   "mimetype": "text/x-python",
   "name": "python",
   "nbconvert_exporter": "python",
   "pygments_lexer": "ipython3",
   "version": "3.8.5"
  }
 },
 "nbformat": 4,
 "nbformat_minor": 4
}
